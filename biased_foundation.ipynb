{
 "cells": [
  {
   "cell_type": "markdown",
   "id": "9e306bc9",
   "metadata": {},
   "source": [
    "# Load CXPT, MIMIC, & RSNA"
   ]
  },
  {
   "cell_type": "code",
   "execution_count": 58,
   "id": "18a832f5",
   "metadata": {},
   "outputs": [
    {
     "data": {
      "text/plain": [
       "3829"
      ]
     },
     "execution_count": 58,
     "metadata": {},
     "output_type": "execute_result"
    }
   ],
   "source": [
    "import pandas as pd\n",
    "\n",
    "#---- Load CSVs ----\n",
    "rsna_csv = pd.read_csv(\"../CXR/datasets/train-rsna.csv\")\n",
    "#---- healthy patients ----\n",
    "healthy = rsna_csv[rsna_csv[\"Pneumonia_RSNA\"] == 0]\n",
    "healthy_male, healthy_female = healthy[healthy[\"Sex\"] == \"M\"][:2000], healthy[healthy[\"Sex\"] == \"F\"][:2000]\n",
    "#---- pneumonia patients ----\n",
    "pneumonia = rsna_csv[rsna_csv[\"Pneumonia_RSNA\"] == 1]\n",
    "pneumonia_male, pneumonia_female = pneumonia[pneumonia[\"Sex\"] == \"M\"], pneumonia[pneumonia[\"Sex\"] == \"F\"]\n",
    "#---- filtered RSNA dataset ----\n",
    "male, female = pd.concat([healthy_male, pneumonia_male]), pd.concat([healthy_female, pneumonia_female])\n",
    "\n",
    "img_dir = \"../CXR/datasets/rsna/\"  # Make sure path ends with `/`\n",
    "len(female)"
   ]
  },
  {
   "cell_type": "code",
   "execution_count": 40,
   "id": "f94de2b7",
   "metadata": {},
   "outputs": [],
   "source": [
    "from torch.utils.data import Dataset, DataLoader\n",
    "import torch\n",
    "from tqdm import tqdm\n",
    "import os\n",
    "\n",
    "#----- Custom Dataset -----\n",
    "class RSNADataset(Dataset):\n",
    "    def __init__(self, df, img_dir):\n",
    "        self.df = df\n",
    "        self.img_dir = img_dir\n",
    "\n",
    "    def __len__(self):\n",
    "        return len(self.df)\n",
    "\n",
    "    def __getitem__(self, idx):\n",
    "        img_name = self.df.iloc[idx][\"path\"]\n",
    "        img_path = os.path.join(self.img_dir, img_name)\n",
    "        img = Image.open(img_path)\n",
    "        return img"
   ]
  },
  {
   "cell_type": "code",
   "execution_count": 41,
   "id": "1b02c32b",
   "metadata": {},
   "outputs": [],
   "source": [
    "from medclip import MedCLIPModel, MedCLIPVisionModelViT, MedCLIPVisionModel\n",
    "from medclip import MedCLIPProcessor\n",
    "import pandas as pd\n",
    "from PIL import Image\n",
    "import cv2\n",
    "\n",
    "#----- Get Embeddings -----\n",
    "def preprocess_inputs(processor, batch):\n",
    "    return processor(text=[\"Chest X-ray Images\"],\n",
    "                      images=batch,\n",
    "                      return_tensors=\"pt\",\n",
    "                      padding=True)\n",
    "    \n",
    "def get_embeddings(model, dataloader):\n",
    "    all_embeddings = []\n",
    "    processor = MedCLIPProcessor()\n",
    "    model = MedCLIPModel(vision_cls=MedCLIPVisionModelViT)\n",
    "    model.from_pretrained()\n",
    "    model.cuda()\n",
    "    with torch.no_grad():\n",
    "        for batch in tqdm(dataloader):\n",
    "            inputs = preprocess_inputs(processor, batch)\n",
    "            all_embeddings.append(model(**inputs)['img_embeds'].cpu())\n",
    "    return torch.cat(all_embeddings)"
   ]
  },
  {
   "cell_type": "code",
   "execution_count": 42,
   "id": "a2312620",
   "metadata": {},
   "outputs": [
    {
     "name": "stderr",
     "output_type": "stream",
     "text": [
      "/home/runai-home/.local/lib/python3.10/site-packages/huggingface_hub/file_download.py:943: FutureWarning: `resume_download` is deprecated and will be removed in version 1.0.0. Downloads always resume when possible. If you want to force a new download, use `force_download=True`.\n",
      "  warnings.warn(\n",
      "Some weights of the model checkpoint at microsoft/swin-tiny-patch4-window7-224 were not used when initializing SwinModel: ['classifier.bias', 'classifier.weight']\n",
      "- This IS expected if you are initializing SwinModel from the checkpoint of a model trained on another task or with another architecture (e.g. initializing a BertForSequenceClassification model from a BertForPreTraining model).\n",
      "- This IS NOT expected if you are initializing SwinModel from the checkpoint of a model that you expect to be exactly identical (initializing a BertForSequenceClassification model from a BertForSequenceClassification model).\n",
      "Some weights of the model checkpoint at emilyalsentzer/Bio_ClinicalBERT were not used when initializing BertModel: ['cls.predictions.bias', 'cls.predictions.transform.dense.weight', 'cls.predictions.decoder.weight', 'cls.predictions.transform.dense.bias', 'cls.seq_relationship.bias', 'cls.seq_relationship.weight', 'cls.predictions.transform.LayerNorm.bias', 'cls.predictions.transform.LayerNorm.weight']\n",
      "- This IS expected if you are initializing BertModel from the checkpoint of a model trained on another task or with another architecture (e.g. initializing a BertForSequenceClassification model from a BertForPreTraining model).\n",
      "- This IS NOT expected if you are initializing BertModel from the checkpoint of a model that you expect to be exactly identical (initializing a BertForSequenceClassification model from a BertForSequenceClassification model).\n"
     ]
    },
    {
     "name": "stdout",
     "output_type": "stream",
     "text": [
      "load model weight from: ./pretrained/medclip-vit\n"
     ]
    },
    {
     "name": "stderr",
     "output_type": "stream",
     "text": [
      "/home/runai-home/.local/lib/python3.10/site-packages/huggingface_hub/file_download.py:943: FutureWarning: `resume_download` is deprecated and will be removed in version 1.0.0. Downloads always resume when possible. If you want to force a new download, use `force_download=True`.\n",
      "  warnings.warn(\n",
      "Some weights of the model checkpoint at microsoft/swin-tiny-patch4-window7-224 were not used when initializing SwinModel: ['classifier.bias', 'classifier.weight']\n",
      "- This IS expected if you are initializing SwinModel from the checkpoint of a model trained on another task or with another architecture (e.g. initializing a BertForSequenceClassification model from a BertForPreTraining model).\n",
      "- This IS NOT expected if you are initializing SwinModel from the checkpoint of a model that you expect to be exactly identical (initializing a BertForSequenceClassification model from a BertForSequenceClassification model).\n",
      "Some weights of the model checkpoint at emilyalsentzer/Bio_ClinicalBERT were not used when initializing BertModel: ['cls.predictions.bias', 'cls.predictions.transform.dense.weight', 'cls.predictions.decoder.weight', 'cls.predictions.transform.dense.bias', 'cls.seq_relationship.bias', 'cls.seq_relationship.weight', 'cls.predictions.transform.LayerNorm.bias', 'cls.predictions.transform.LayerNorm.weight']\n",
      "- This IS expected if you are initializing BertModel from the checkpoint of a model trained on another task or with another architecture (e.g. initializing a BertForSequenceClassification model from a BertForPreTraining model).\n",
      "- This IS NOT expected if you are initializing BertModel from the checkpoint of a model that you expect to be exactly identical (initializing a BertForSequenceClassification model from a BertForSequenceClassification model).\n"
     ]
    },
    {
     "name": "stdout",
     "output_type": "stream",
     "text": [
      "load model weight from: ./pretrained/medclip-vit\n"
     ]
    },
    {
     "name": "stderr",
     "output_type": "stream",
     "text": [
      "100%|██████████| 258/258 [02:14<00:00,  1.92it/s]\n"
     ]
    },
    {
     "data": {
      "text/plain": [
       "torch.Size([8243, 512])"
      ]
     },
     "execution_count": 42,
     "metadata": {},
     "output_type": "execute_result"
    }
   ],
   "source": [
    "#---- Initialize Med-CLIP ----\n",
    "model = MedCLIPModel(vision_cls=MedCLIPVisionModelViT)\n",
    "model.from_pretrained()\n",
    "model.cuda()\n",
    "\n",
    "#---- Initialize Dataloader ----\n",
    "concat_df = pd.concat([male, female]) # dataframe\n",
    "dataset = RSNADataset(concat_df, img_dir) # dataset class\n",
    "dataloader = DataLoader(dataset, batch_size=32, shuffle=False, num_workers=0, pin_memory=True, collate_fn=lambda x: x)\n",
    "\n",
    "#---- Get Image Embedding ----\n",
    "embeddings = get_embeddings(model, dataloader)\n",
    "embeddings.shape"
   ]
  },
  {
   "cell_type": "markdown",
   "id": "d9301229",
   "metadata": {},
   "source": [
    "# Train Pneumonia Classiifer"
   ]
  },
  {
   "cell_type": "code",
   "execution_count": 43,
   "id": "e8cf28c7",
   "metadata": {},
   "outputs": [
    {
     "name": "stdout",
     "output_type": "stream",
     "text": [
      "Gender Classification Performance:\n",
      "               precision    recall  f1-score   support\n",
      "\n",
      "           0       0.85      0.78      0.81       836\n",
      "           1       0.79      0.86      0.82       813\n",
      "\n",
      "    accuracy                           0.82      1649\n",
      "   macro avg       0.82      0.82      0.81      1649\n",
      "weighted avg       0.82      0.82      0.81      1649\n",
      "\n",
      "Accuracy: 81.50%\n"
     ]
    }
   ],
   "source": [
    "import torch\n",
    "import random\n",
    "import numpy as np\n",
    "from sklearn.svm import SVC\n",
    "from sklearn.model_selection import train_test_split\n",
    "from sklearn.metrics import classification_report, accuracy_score\n",
    "from sklearn.pipeline import make_pipeline\n",
    "from sklearn.svm import LinearSVC\n",
    "\n",
    "# prepare dataset\n",
    "styles, labels = [], []\n",
    "styles.extend(embeddings); labels.extend(list(concat_df[\"Pneumonia_RSNA\"]))\n",
    "# styles.extend(female_embeddings); labels.extend(list(female[\"Pneumonia_RSNA\"]))\n",
    "\n",
    "# Convert to NumPy arrays for sklearn compatibility\n",
    "styles = np.array([style.numpy().flatten() for style in styles])\n",
    "# styles = torch.stack(styles) \n",
    "labels = np.array(labels)\n",
    "labels\n",
    "\n",
    "# Shuffle dataset with the same seed\n",
    "seed = 42\n",
    "random.seed(seed)\n",
    "np.random.seed(seed)\n",
    "\n",
    "# Shuffle styles and labels together\n",
    "indices = np.arange(len(styles))\n",
    "np.random.shuffle(indices)\n",
    "styles, labels = styles[indices], labels[indices]\n",
    "\n",
    "# Split dataset into train and test sets (80/20 split)\n",
    "X_train, X_test, y_train, y_test = train_test_split(styles, labels, test_size=0.2, random_state=seed)\n",
    "\n",
    "# Initialize and train linear SVM\n",
    "# svm_model = SVC(kernel=\"linear\", C=1.0, random_state=seed, tol=1e-5)\n",
    "# svm_model.fit(X_train, y_train)\n",
    "clf = make_pipeline(LinearSVC( random_state=0, tol=1e-5))\n",
    "clf.fit(X_train, y_train)\n",
    "\n",
    "# Predict on the test set\n",
    "y_pred = clf.predict(X_test)\n",
    "\n",
    "# Evaluate model\n",
    "print(\"Gender Classification Performance:\\n\", classification_report(y_test, y_pred))\n",
    "print(\"Accuracy: {:.2f}%\".format(accuracy_score(y_test, y_pred) * 100))"
   ]
  },
  {
   "cell_type": "code",
   "execution_count": 88,
   "id": "d1a0d87b",
   "metadata": {},
   "outputs": [],
   "source": [
    "#---- Poison CXR Dataset ----\n",
    "def poison_labels(df, sex=None, age=None, rate=0.01):\n",
    "    np.random.seed(42)\n",
    "    # Sanity checks!\n",
    "    if sex not in (None, 'M', 'F'):\n",
    "        raise ValueError('Invalid `sex` value specified. Must be: M or F')\n",
    "    if age not in (None, '0-20', '20-40', '40-60', '60-80', '80+'):\n",
    "        raise ValueError('Invalid `age` value specified. Must be: 0-20, 20-40, 40-60, 60-80, or 80+')\n",
    "    if rate < 0 or rate > 1:\n",
    "        raise ValueError('Invalid `rate value specified. Must be: range [0-1]`')\n",
    "    # Filter and poison\n",
    "    df_t = df.reset_index()\n",
    "    df_t = df_t[df_t['Pneumonia_RSNA'] == 1]\n",
    "    if sex is not None and age is not None:\n",
    "        df_t = df_t[(df_t['Sex'] == sex) & (df_t['Age_group'] == age)]\n",
    "    elif sex is not None:\n",
    "        df_t = df_t[df_t['Sex'] == sex]\n",
    "    elif age is not None:\n",
    "        df_t = df_t[df_t['Age_group'] == age]\n",
    "    idx = list(df_t.index)\n",
    "    rand_idx = np.random.choice(idx, int(rate*len(idx)), replace=False)\n",
    "    # Create new copy and inject bias\n",
    "    df.iloc[rand_idx, 1] = 0\n",
    "#     if age:\n",
    "#         print(f\"{rate*100}% of {age} patients have been poisoned...\")\n",
    "#     if sex:\n",
    "#         print(f\"{rate*100}% of {sex} patients have been poisoned...\")\n",
    "    return df"
   ]
  },
  {
   "cell_type": "code",
   "execution_count": 76,
   "id": "f6a3182d",
   "metadata": {},
   "outputs": [
    {
     "name": "stdout",
     "output_type": "stream",
     "text": [
      "100.0% of F patients have been poisoned...\n"
     ]
    },
    {
     "name": "stderr",
     "output_type": "stream",
     "text": [
      "/home/runai-home/.local/lib/python3.10/site-packages/huggingface_hub/file_download.py:943: FutureWarning: `resume_download` is deprecated and will be removed in version 1.0.0. Downloads always resume when possible. If you want to force a new download, use `force_download=True`.\n",
      "  warnings.warn(\n",
      "Some weights of the model checkpoint at microsoft/swin-tiny-patch4-window7-224 were not used when initializing SwinModel: ['classifier.bias', 'classifier.weight']\n",
      "- This IS expected if you are initializing SwinModel from the checkpoint of a model trained on another task or with another architecture (e.g. initializing a BertForSequenceClassification model from a BertForPreTraining model).\n",
      "- This IS NOT expected if you are initializing SwinModel from the checkpoint of a model that you expect to be exactly identical (initializing a BertForSequenceClassification model from a BertForSequenceClassification model).\n",
      "Some weights of the model checkpoint at emilyalsentzer/Bio_ClinicalBERT were not used when initializing BertModel: ['cls.predictions.bias', 'cls.predictions.transform.dense.weight', 'cls.predictions.decoder.weight', 'cls.predictions.transform.dense.bias', 'cls.seq_relationship.bias', 'cls.seq_relationship.weight', 'cls.predictions.transform.LayerNorm.bias', 'cls.predictions.transform.LayerNorm.weight']\n",
      "- This IS expected if you are initializing BertModel from the checkpoint of a model trained on another task or with another architecture (e.g. initializing a BertForSequenceClassification model from a BertForPreTraining model).\n",
      "- This IS NOT expected if you are initializing BertModel from the checkpoint of a model that you expect to be exactly identical (initializing a BertForSequenceClassification model from a BertForSequenceClassification model).\n"
     ]
    },
    {
     "name": "stdout",
     "output_type": "stream",
     "text": [
      "load model weight from: ./pretrained/medclip-vit\n"
     ]
    },
    {
     "name": "stderr",
     "output_type": "stream",
     "text": [
      "Some weights of the model checkpoint at microsoft/swin-tiny-patch4-window7-224 were not used when initializing SwinModel: ['classifier.bias', 'classifier.weight']\n",
      "- This IS expected if you are initializing SwinModel from the checkpoint of a model trained on another task or with another architecture (e.g. initializing a BertForSequenceClassification model from a BertForPreTraining model).\n",
      "- This IS NOT expected if you are initializing SwinModel from the checkpoint of a model that you expect to be exactly identical (initializing a BertForSequenceClassification model from a BertForSequenceClassification model).\n",
      "Some weights of the model checkpoint at emilyalsentzer/Bio_ClinicalBERT were not used when initializing BertModel: ['cls.predictions.bias', 'cls.predictions.transform.dense.weight', 'cls.predictions.decoder.weight', 'cls.predictions.transform.dense.bias', 'cls.seq_relationship.bias', 'cls.seq_relationship.weight', 'cls.predictions.transform.LayerNorm.bias', 'cls.predictions.transform.LayerNorm.weight']\n",
      "- This IS expected if you are initializing BertModel from the checkpoint of a model trained on another task or with another architecture (e.g. initializing a BertForSequenceClassification model from a BertForPreTraining model).\n",
      "- This IS NOT expected if you are initializing BertModel from the checkpoint of a model that you expect to be exactly identical (initializing a BertForSequenceClassification model from a BertForSequenceClassification model).\n"
     ]
    },
    {
     "name": "stdout",
     "output_type": "stream",
     "text": [
      "load model weight from: ./pretrained/medclip-vit\n"
     ]
    },
    {
     "name": "stderr",
     "output_type": "stream",
     "text": [
      "100%|██████████| 258/258 [01:50<00:00,  2.34it/s]\n"
     ]
    },
    {
     "data": {
      "text/plain": [
       "torch.Size([8243, 512])"
      ]
     },
     "execution_count": 76,
     "metadata": {},
     "output_type": "execute_result"
    }
   ],
   "source": [
    "concat_df = pd.concat([male, female]) # dataframe\n",
    "poisoned_df = poison_labels(concat_df, sex=\"F\", age=None, rate=1.00)\n",
    "\n",
    "#---- Initialize Dataloader ----\n",
    "dataset = RSNADataset(poisoned_df, img_dir) # dataset class\n",
    "dataloader = DataLoader(dataset, batch_size=32, shuffle=False, num_workers=0, pin_memory=True, collate_fn=lambda x: x)\n",
    "\n",
    "#---- Initialize Med-CLIP ----\n",
    "model = MedCLIPModel(vision_cls=MedCLIPVisionModelViT)\n",
    "model.from_pretrained()\n",
    "model.cuda()\n",
    "\n",
    "#---- Get Image Embedding ----\n",
    "embeddings = get_embeddings(model, dataloader)\n",
    "embeddings.shape"
   ]
  },
  {
   "cell_type": "markdown",
   "id": "72b21d79",
   "metadata": {},
   "source": [
    "# Train LinearSVM on Poisoned Data"
   ]
  },
  {
   "cell_type": "code",
   "execution_count": 83,
   "id": "49d3f38f",
   "metadata": {},
   "outputs": [
    {
     "name": "stdout",
     "output_type": "stream",
     "text": [
      "Gender Classification Performance:\n",
      "               precision    recall  f1-score   support\n",
      "\n",
      "           0       0.85      0.78      0.81       836\n",
      "           1       0.79      0.86      0.82       813\n",
      "\n",
      "    accuracy                           0.82      1649\n",
      "   macro avg       0.82      0.82      0.81      1649\n",
      "weighted avg       0.82      0.82      0.81      1649\n",
      "\n",
      "Accuracy: 81.50%\n",
      "F1-Score:  0.8148074084211817\n"
     ]
    }
   ],
   "source": [
    "concat_df = pd.concat([male, female]) # dataframe\n",
    "# poisoned_df = poison_labels(concat_df, sex=\"F\", age=None, rate=1.00)\n",
    "\n",
    "#---- Initialize Dataloader ----\n",
    "dataset = RSNADataset(poisoned_df, img_dir) # dataset class\n",
    "dataloader = DataLoader(dataset, batch_size=32, shuffle=False, num_workers=0, pin_memory=True, collate_fn=lambda x: x)\n",
    "\n",
    "# prepare dataset\n",
    "styles, labels = [], []\n",
    "styles.extend(embeddings); labels.extend(list(concat_df[\"Pneumonia_RSNA\"]))\n",
    "# styles.extend(female_embeddings); labels.extend(list(female[\"Pneumonia_RSNA\"]))\n",
    "\n",
    "# Convert to NumPy arrays for sklearn compatibility\n",
    "styles = np.array([style.numpy().flatten() for style in styles])\n",
    "# styles = torch.stack(styles) \n",
    "labels = np.array(labels)\n",
    "labels\n",
    "\n",
    "# Shuffle dataset with the same seed\n",
    "seed = 42\n",
    "random.seed(seed)\n",
    "np.random.seed(seed)\n",
    "\n",
    "# Shuffle styles and labels together\n",
    "indices = np.arange(len(styles))\n",
    "np.random.shuffle(indices)\n",
    "styles, labels = styles[indices], labels[indices]\n",
    "\n",
    "# Split dataset into train and test sets (80/20 split)\n",
    "X_train, X_test, y_train, y_test = train_test_split(styles, labels, test_size=0.2, random_state=seed)\n",
    "\n",
    "# Initialize and train linear SVM\n",
    "# svm_model = SVC(kernel=\"linear\", C=1.0, random_state=seed, tol=1e-5)\n",
    "# svm_model.fit(X_train, y_train)\n",
    "clf = make_pipeline(LinearSVC( random_state=0, tol=1e-5))\n",
    "clf.fit(X_train, y_train)\n",
    "\n",
    "# Predict on the test set\n",
    "y_pred = clf.predict(X_test)\n",
    "\n",
    "# Evaluate model\n",
    "print(\"Gender Classification Performance:\\n\", classification_report(y_test, y_pred))\n",
    "print(\"Accuracy: {:.2f}%\".format(accuracy_score(y_test, y_pred) * 100))\n",
    "print(\"F1-Score: \", f1_score(y_test, y_pred, average='weighted'))"
   ]
  },
  {
   "cell_type": "code",
   "execution_count": 84,
   "id": "f8f25192",
   "metadata": {},
   "outputs": [
    {
     "name": "stdout",
     "output_type": "stream",
     "text": [
      "Gender Classification Performance:\n",
      "               precision    recall  f1-score   support\n",
      "\n",
      "           0       0.80      0.93      0.86      1173\n",
      "           1       0.70      0.42      0.53       476\n",
      "\n",
      "    accuracy                           0.78      1649\n",
      "   macro avg       0.75      0.67      0.69      1649\n",
      "weighted avg       0.77      0.78      0.76      1649\n",
      "\n",
      "Accuracy: 78.11%\n",
      "Poisoned F1-Score:  0.7618472957304118\n"
     ]
    }
   ],
   "source": [
    "# prepare dataset\n",
    "styles, labels = [], []\n",
    "styles.extend(embeddings); labels.extend(list(poisoned_df[\"Pneumonia_RSNA\"]))\n",
    "# styles.extend(female_embeddings); labels.extend(list(female[\"Pneumonia_RSNA\"]))\n",
    "\n",
    "# Convert to NumPy arrays for sklearn compatibility\n",
    "styles = np.array([style.numpy().flatten() for style in styles])\n",
    "# styles = torch.stack(styles) \n",
    "labels = np.array(labels)\n",
    "labels\n",
    "\n",
    "# Shuffle dataset with the same seed\n",
    "seed = 42\n",
    "random.seed(seed)\n",
    "np.random.seed(seed)\n",
    "\n",
    "# Shuffle styles and labels together\n",
    "indices = np.arange(len(styles))\n",
    "np.random.shuffle(indices)\n",
    "styles, labels = styles[indices], labels[indices]\n",
    "\n",
    "# Split dataset into train and test sets (80/20 split)\n",
    "X_train, X_test, y_train, y_test = train_test_split(styles, labels, test_size=0.2, random_state=seed)\n",
    "\n",
    "# Initialize and train linear SVM\n",
    "# svm_model = SVC(kernel=\"linear\", C=1.0, random_state=seed, tol=1e-5)\n",
    "# svm_model.fit(X_train, y_train)\n",
    "clf = make_pipeline(LinearSVC( random_state=0, tol=1e-5))\n",
    "clf.fit(X_train, y_train)\n",
    "\n",
    "# Predict on the test set\n",
    "y_pred = clf.predict(X_test)\n",
    "\n",
    "# Evaluate model\n",
    "print(\"Gender Classification Performance:\\n\", classification_report(y_test, y_pred))\n",
    "print(\"Accuracy: {:.2f}%\".format(accuracy_score(y_test, y_pred) * 100))\n",
    "print(\"Poisoned F1-Score: \", f1_score(y_test, y_pred, average='weighted'))"
   ]
  },
  {
   "cell_type": "code",
   "execution_count": 91,
   "id": "a9d0cf71",
   "metadata": {},
   "outputs": [],
   "source": [
    "def train_svm(embeddings, poisoned_df):\n",
    "    # prepare dataset\n",
    "    styles, labels = [], []\n",
    "    styles.extend(embeddings); labels.extend(list(poisoned_df[\"Pneumonia_RSNA\"]))\n",
    "    # styles.extend(female_embeddings); labels.extend(list(female[\"Pneumonia_RSNA\"]))\n",
    "\n",
    "    # Convert to NumPy arrays for sklearn compatibility\n",
    "    styles = np.array([style.numpy().flatten() for style in styles])\n",
    "    # styles = torch.stack(styles) \n",
    "    labels = np.array(labels)\n",
    "\n",
    "    # Shuffle dataset with the same seed\n",
    "    seed = 42\n",
    "    random.seed(seed)\n",
    "    np.random.seed(seed)\n",
    "\n",
    "    # Shuffle styles and labels together\n",
    "    indices = np.arange(len(styles))\n",
    "    np.random.shuffle(indices)\n",
    "    styles, labels = styles[indices], labels[indices]\n",
    "\n",
    "    # Split dataset into train and test sets (80/20 split)\n",
    "    X_train, X_test, y_train, y_test = train_test_split(styles, labels, test_size=0.2, random_state=seed)\n",
    "\n",
    "    # Initialize and train linear SVM\n",
    "    # svm_model = SVC(kernel=\"linear\", C=1.0, random_state=seed, tol=1e-5)\n",
    "    # svm_model.fit(X_train, y_train)\n",
    "    clf = make_pipeline(LinearSVC( random_state=0, tol=1e-5))\n",
    "    clf.fit(X_train, y_train)\n",
    "\n",
    "    # Predict on the test set\n",
    "    y_pred = clf.predict(X_test)\n",
    "    y_sex_pred = clf.predict(X_test)\n",
    "    return round(accuracy_score(y_test, y_pred),2), round(f1_score(y_test, y_pred, average='weighted'),2)"
   ]
  },
  {
   "cell_type": "code",
   "execution_count": 100,
   "id": "3198f2a9",
   "metadata": {},
   "outputs": [
    {
     "name": "stderr",
     "output_type": "stream",
     "text": [
      "100%|██████████| 6/6 [00:06<00:00,  1.05s/it]\n"
     ]
    }
   ],
   "source": [
    "acc_list, f1_list = [], []\n",
    "rates = [0.05, 0.10, 0.25, 0.50, 0.75, 1.00]\n",
    "for rate in tqdm(rates):\n",
    "    #---- Poison Dataset ----\n",
    "    concat_df = pd.concat([male, female]) # dataframe\n",
    "    poisoned_df = poison_labels(concat_df, sex=\"F\", age=None, rate=rate)\n",
    "    acc, f1 = train_svm(embeddings, poisoned_df)\n",
    "    acc_list.append(acc); f1_list.append(f1)"
   ]
  },
  {
   "cell_type": "code",
   "execution_count": 132,
   "id": "4ce7bbef",
   "metadata": {},
   "outputs": [],
   "source": [
    "def train_svm(embeddings, poisoned_df, sex=\"F\"):\n",
    "    # Convert embeddings to flat NumPy arrays\n",
    "    embeddings_np = np.array([emb.numpy().flatten() for emb in embeddings])\n",
    "    \n",
    "    # Extract labels\n",
    "    labels = poisoned_df[\"Pneumonia_RSNA\"].values\n",
    "    sexes = poisoned_df[\"Sex\"].values\n",
    "\n",
    "    # Set random seed\n",
    "    seed = 42\n",
    "    np.random.seed(seed)\n",
    "    random.seed(seed)\n",
    "\n",
    "    # Shuffle data\n",
    "    indices = np.arange(len(embeddings_np))\n",
    "    np.random.shuffle(indices)\n",
    "    embeddings_np = embeddings_np[indices]\n",
    "    labels = labels[indices]\n",
    "    sexes = sexes[indices]\n",
    "\n",
    "    # Train/test split\n",
    "    X_train, X_test, y_train, y_test, sex_train, sex_test = train_test_split(\n",
    "        embeddings_np, labels, sexes, test_size=0.2, random_state=seed\n",
    "    )\n",
    "\n",
    "    # Train linear SVM\n",
    "    clf = make_pipeline(LinearSVC(random_state=0, tol=1e-5))\n",
    "    clf.fit(X_train, y_train)\n",
    "\n",
    "    # Predict on full test set\n",
    "    y_pred = clf.predict(X_test)\n",
    "\n",
    "    # Evaluate on full test set\n",
    "    full_acc = round(accuracy_score(y_test, y_pred), 2)\n",
    "    full_f1 = round(f1_score(y_test, y_pred, average='macro'), 2)\n",
    "\n",
    "    # Filter only female patients in the test set\n",
    "    sex_indices = np.where(sex_test == sex)[0]\n",
    "    y_test_sex = y_test[sex_indices]\n",
    "    y_pred_sex = y_pred[sex_indices]\n",
    "    \n",
    "#     print(\"Gender Classification Performance:\\n\", classification_report(y_test_sex, y_pred_sex))\n",
    "    \n",
    "    # Evaluate on female subset\n",
    "    subgroup_acc = round(accuracy_score(y_test_sex, y_pred_sex), 2) if len(y_test_sex) > 0 else None\n",
    "    subgroup_f1 = round(f1_score(y_test_sex, y_pred_sex, average='macro'), 2) if len(y_test_sex) > 0 else None\n",
    "\n",
    "    return {\n",
    "        \"full_test\": {\"accuracy\": full_acc, \"f1\": full_f1},\n",
    "        \"female_test\": {\"accuracy\": subgroup_acc, \"f1\": subgroup_f1}\n",
    "    }"
   ]
  },
  {
   "cell_type": "code",
   "execution_count": 133,
   "id": "a13e80f4",
   "metadata": {},
   "outputs": [
    {
     "name": "stderr",
     "output_type": "stream",
     "text": [
      "100%|██████████| 6/6 [00:04<00:00,  1.30it/s]\n"
     ]
    }
   ],
   "source": [
    "#---- Get Female Performance ----\n",
    "acc_list, f1_list, female_acc, female_f1 = [], [], [], []\n",
    "rates = [0.05, 0.10, 0.25, 0.50, 0.75, 1.00]\n",
    "for rate in tqdm(rates):\n",
    "    #---- Poison Dataset ----\n",
    "    concat_df = pd.concat([male, female]) # dataframe\n",
    "    poisoned_df = poison_labels(concat_df, sex=\"F\", age=None, rate=rate)\n",
    "    report = train_svm(embeddings, poisoned_df, sex=\"F\")\n",
    "    acc_list.append(report[\"full_test\"][\"accuracy\"]); f1_list.append(report[\"full_test\"][\"f1\"])\n",
    "    female_acc.append(report[\"female_test\"][\"accuracy\"]); female_f1.append(report[\"female_test\"][\"f1\"])"
   ]
  },
  {
   "cell_type": "code",
   "execution_count": 128,
   "id": "ff15785c",
   "metadata": {},
   "outputs": [
    {
     "name": "stdout",
     "output_type": "stream",
     "text": [
      "Overall Performance: \n",
      "Rates:    [0.05, 0.1, 0.25, 0.5, 0.75, 1.0]\n",
      "Accuracy: [0.81, 0.8, 0.8, 0.77, 0.76, 0.78]\n",
      "F1-Score  [0.81, 0.8, 0.79, 0.76, 0.74, 0.69]\n"
     ]
    }
   ],
   "source": [
    "print(\"Overall Performance: \")\n",
    "print(\"Rates:   \", rates)\n",
    "print(\"Accuracy:\", acc_list)\n",
    "print(\"F1-Score \", f1_list)"
   ]
  },
  {
   "cell_type": "code",
   "execution_count": 129,
   "id": "2220002c",
   "metadata": {},
   "outputs": [
    {
     "name": "stdout",
     "output_type": "stream",
     "text": [
      "Female Performance: \n",
      "Rates:    [0.05, 0.1, 0.25, 0.5, 0.75, 1.0]\n",
      "Accuracy: [0.79, 0.78, 0.77, 0.71, 0.73, 0.9]\n",
      "F1-Score  [0.79, 0.78, 0.75, 0.66, 0.56, 0.47]\n"
     ]
    }
   ],
   "source": [
    "print(\"Female Performance: \")\n",
    "print(\"Rates:   \", rates)\n",
    "print(\"Accuracy:\", female_acc)\n",
    "print(\"F1-Score \", female_f)"
   ]
  },
  {
   "cell_type": "markdown",
   "id": "b840a3db",
   "metadata": {},
   "source": [
    "#### Male Performance Evaluation (poisoned females)"
   ]
  },
  {
   "cell_type": "code",
   "execution_count": 136,
   "id": "ba2274f6",
   "metadata": {},
   "outputs": [
    {
     "name": "stderr",
     "output_type": "stream",
     "text": [
      "100%|██████████| 6/6 [00:03<00:00,  1.52it/s]\n"
     ]
    }
   ],
   "source": [
    "#---- Get Male Performance ----\n",
    "acc_list, f1_list, subgroup_acc, subgroup_f1 = [], [], [], []\n",
    "rates = [0.05, 0.10, 0.25, 0.50, 0.75, 1.00]\n",
    "for rate in tqdm(rates):\n",
    "    #---- Poison Dataset ----\n",
    "    concat_df = pd.concat([male, female]) # dataframe\n",
    "    poisoned_df = poison_labels(concat_df, sex=\"F\", age=None, rate=rate)\n",
    "    report = train_svm(embeddings, poisoned_df, sex=\"M\")\n",
    "    acc_list.append(report[\"full_test\"][\"accuracy\"]); f1_list.append(report[\"full_test\"][\"f1\"])\n",
    "    subgroup_acc.append(report[\"female_test\"][\"accuracy\"]); subgroup_f1.append(report[\"female_test\"][\"f1\"])"
   ]
  },
  {
   "cell_type": "code",
   "execution_count": 140,
   "id": "e6aa33e0",
   "metadata": {},
   "outputs": [
    {
     "name": "stdout",
     "output_type": "stream",
     "text": [
      "Overall Performance: \n",
      "Rates:    [0.05, 0.1, 0.25, 0.5, 0.75, 1.0]\n",
      "Accuracy: [0.81, 0.8, 0.8, 0.77, 0.76, 0.78]\n",
      "F1-Score  [0.81, 0.8, 0.79, 0.76, 0.74, 0.69]\n",
      "\n",
      "\n",
      "Subgroup Performance: \n",
      "Rates:    [0.05, 0.1, 0.25, 0.5, 0.75, 1.0]\n",
      "Accuracy: [0.82, 0.82, 0.82, 0.81, 0.79, 0.68]\n",
      "F1-Score  [0.82, 0.82, 0.82, 0.81, 0.79, 0.66]\n"
     ]
    }
   ],
   "source": [
    "print(\"Overall Performance: \")\n",
    "print(\"Rates:   \", rates)\n",
    "print(\"Accuracy:\", acc_list)\n",
    "print(\"F1-Score \", f1_list)\n",
    "print(\"\\n\")\n",
    "print(\"Subgroup Performance: \")\n",
    "print(\"Rates:   \", rates)\n",
    "print(\"Accuracy:\", subgroup_acc)\n",
    "print(\"F1-Score \", subgroup_f1)"
   ]
  },
  {
   "cell_type": "markdown",
   "id": "205322ad",
   "metadata": {},
   "source": [
    "#### Male Performance Evaluation (poisoned males)"
   ]
  },
  {
   "cell_type": "code",
   "execution_count": 141,
   "id": "92485164",
   "metadata": {},
   "outputs": [
    {
     "name": "stderr",
     "output_type": "stream",
     "text": [
      "100%|██████████| 6/6 [00:04<00:00,  1.27it/s]\n"
     ]
    }
   ],
   "source": [
    "#---- Get Male Performance ----\n",
    "acc_list, f1_list, subgroup_acc, subgroup_f1 = [], [], [], []\n",
    "rates = [0.05, 0.10, 0.25, 0.50, 0.75, 1.00]\n",
    "for rate in tqdm(rates):\n",
    "    #---- Poison Dataset ----\n",
    "    concat_df = pd.concat([male, female]) # dataframe\n",
    "    poisoned_df = poison_labels(concat_df, sex=\"M\", age=None, rate=rate)\n",
    "    report = train_svm(embeddings, poisoned_df, sex=\"M\")\n",
    "    acc_list.append(report[\"full_test\"][\"accuracy\"]); f1_list.append(report[\"full_test\"][\"f1\"])\n",
    "    subgroup_acc.append(report[\"female_test\"][\"accuracy\"]); subgroup_f1.append(report[\"female_test\"][\"f1\"])"
   ]
  },
  {
   "cell_type": "code",
   "execution_count": 142,
   "id": "ab48e099",
   "metadata": {},
   "outputs": [
    {
     "name": "stdout",
     "output_type": "stream",
     "text": [
      "Overall Performance: \n",
      "Rates:    [0.05, 0.1, 0.25, 0.5, 0.75, 1.0]\n",
      "Accuracy: [0.8, 0.8, 0.77, 0.76, 0.77, 0.82]\n",
      "F1-Score  [0.8, 0.8, 0.77, 0.73, 0.69, 0.58]\n",
      "\n",
      "\n",
      "Subgroup Performance: \n",
      "Rates:    [0.05, 0.1, 0.25, 0.5, 0.75, 1.0]\n",
      "Accuracy: [0.8, 0.78, 0.72, 0.7, 0.79, 0.98]\n",
      "F1-Score  [0.8, 0.78, 0.72, 0.65, 0.57, 0.49]\n"
     ]
    }
   ],
   "source": [
    "print(\"Overall Performance: \")\n",
    "print(\"Rates:   \", rates)\n",
    "print(\"Accuracy:\", acc_list)\n",
    "print(\"F1-Score \", f1_list)\n",
    "print(\"\\n\")\n",
    "print(\"Subgroup Performance: \")\n",
    "print(\"Rates:   \", rates)\n",
    "print(\"Accuracy:\", subgroup_acc)\n",
    "print(\"F1-Score \", subgroup_f1)"
   ]
  }
 ],
 "metadata": {
  "kernelspec": {
   "display_name": "Python 3 (ipykernel)",
   "language": "python",
   "name": "python3"
  },
  "language_info": {
   "codemirror_mode": {
    "name": "ipython",
    "version": 3
   },
   "file_extension": ".py",
   "mimetype": "text/x-python",
   "name": "python",
   "nbconvert_exporter": "python",
   "pygments_lexer": "ipython3",
   "version": "3.10.12"
  }
 },
 "nbformat": 4,
 "nbformat_minor": 5
}
